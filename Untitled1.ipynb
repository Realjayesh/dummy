{
 "cells": [
  {
   "cell_type": "code",
   "execution_count": null,
   "id": "74901b64",
   "metadata": {},
   "outputs": [],
   "source": [
    "import streamlit as st\n",
    "import folium\n",
    "import random\n",
    "\n",
    "# Page 1: Home\n",
    "def home():\n",
    "    st.title(\"Home\")\n",
    "    st.write(\"Welcome to the random map app!\")\n",
    "\n",
    "# Page 2: Map 1\n",
    "def map1():\n",
    "    st.title(\"Map 1\")\n",
    "    st.write(\"This is a random map.\")\n",
    "\n",
    "    # Generate a random location\n",
    "    lat = random.uniform(-90, 90)\n",
    "    lon = random.uniform(-180, 180)\n",
    "\n",
    "    # Create a Folium map\n",
    "    m = folium.Map(location=[lat, lon], zoom_start=10)\n",
    "    folium.Marker([lat, lon], popup='Random Location').add_to(m)\n",
    "\n",
    "    # Display the map using the folium_to_streamlit utility\n",
    "    st.write(m._repr_html_(), unsafe_allow_html=True)\n",
    "\n",
    "# Page 3: Map 2\n",
    "def map2():\n",
    "    st.title(\"Map 2\")\n",
    "    st.write(\"This is another random map.\")\n",
    "\n",
    "    # Generate a random location\n",
    "    lat = random.uniform(-90, 90)\n",
    "    lon = random.uniform(-180, 180)\n",
    "\n",
    "    # Create a Folium map\n",
    "    m = folium.Map(location=[lat, lon], zoom_start=10)\n",
    "    folium.Marker([lat, lon], popup='Random Location').add_to(m)\n",
    "\n",
    "    # Display the map using the folium_to_streamlit utility\n",
    "    st.write(m._repr_html_(), unsafe_allow_html=True)\n",
    "\n",
    "# Main app\n",
    "def main():\n",
    "    st.sidebar.title(\"Navigation\")\n",
    "    pages = {\n",
    "        \"Home\": home,\n",
    "        \"Map 1\": map1,\n",
    "        \"Map 2\": map2,\n",
    "    }\n",
    "    selected_page = st.sidebar.radio(\"Go to\", list(pages.keys()))\n",
    "    pages[selected_page]()\n",
    "\n",
    "if __name__ == \"__main__\":\n",
    "    main()\n"
   ]
  }
 ],
 "metadata": {
  "kernelspec": {
   "display_name": "Python 3 (ipykernel)",
   "language": "python",
   "name": "python3"
  },
  "language_info": {
   "codemirror_mode": {
    "name": "ipython",
    "version": 3
   },
   "file_extension": ".py",
   "mimetype": "text/x-python",
   "name": "python",
   "nbconvert_exporter": "python",
   "pygments_lexer": "ipython3",
   "version": "3.10.9"
  }
 },
 "nbformat": 4,
 "nbformat_minor": 5
}
